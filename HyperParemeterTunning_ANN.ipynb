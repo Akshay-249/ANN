{
 "cells": [
  {
   "cell_type": "markdown",
   "id": "7e7f3936",
   "metadata": {},
   "source": [
    "## Determining the optimal number of hidden layers and neurons for an Artificial Neural Network (ANN)\n",
    "This can be challenging and often requires experimentation. However, there are some guidelines and methods that can help you in making an informed decision:\n",
    "\n",
    "Start Simple: Begin with a simple architecture and gradually increase complexity if needed.\n",
    "Grid Search/Random Search: Use grid search or random search to try different architectures.\n",
    "Cross-Validation: Use cross-validation to evaluate the performance of different architectures.\n",
    "Heuristics and Rules of Thumb: Some heuristics and empirical rules can provide starting points, such as:\n",
    "The number of neurons in the hidden layer should be between the size of the input layer and the size of the output layer.\n",
    "A common practice is to start with 1-2 hidden layers."
   ]
  },
  {
   "cell_type": "code",
   "execution_count": 1,
   "id": "c8d874b6",
   "metadata": {},
   "outputs": [
    {
     "name": "stdout",
     "output_type": "stream",
     "text": [
      "WARNING:tensorflow:From c:\\Users\\aksha\\AIML\\supervised\\Udemy\\ANN Classification\\venv\\Lib\\site-packages\\keras\\src\\losses.py:2976: The name tf.losses.sparse_softmax_cross_entropy is deprecated. Please use tf.compat.v1.losses.sparse_softmax_cross_entropy instead.\n",
      "\n"
     ]
    }
   ],
   "source": [
    "import pandas as pd\n",
    "from sklearn.model_selection import train_test_split, GridSearchCV\n",
    "from sklearn.preprocessing import StandardScaler, LabelEncoder, OneHotEncoder\n",
    "from sklearn.pipeline import Pipeline\n",
    "from scikeras.wrappers import KerasClassifier\n",
    "import tensorflow as tf\n",
    "from tensorflow.keras.models import Sequential\n",
    "from tensorflow.keras.layers import Dense\n",
    "from tensorflow.keras.callbacks import EarlyStopping\n",
    "import pickle"
   ]
  },
  {
   "cell_type": "code",
   "execution_count": 8,
   "id": "0ccd489a",
   "metadata": {},
   "outputs": [
    {
     "name": "stdout",
     "output_type": "stream",
     "text": [
      "Found existing installation: scikit-learn 1.5.2\n",
      "Uninstalling scikit-learn-1.5.2:\n",
      "  Successfully uninstalled scikit-learn-1.5.2\n"
     ]
    },
    {
     "name": "stderr",
     "output_type": "stream",
     "text": [
      "WARNING: Failed to remove contents in a temporary directory 'C:\\Users\\aksha\\AIML\\supervised\\Udemy\\ANN Classification\\venv\\Lib\\site-packages\\~-learn'.\n",
      "You can safely remove it manually.\n"
     ]
    },
    {
     "name": "stdout",
     "output_type": "stream",
     "text": [
      "Collecting scikit-learn==1.3.1\n",
      "  Downloading scikit_learn-1.3.1-cp311-cp311-win_amd64.whl.metadata (11 kB)\n",
      "Requirement already satisfied: numpy<2.0,>=1.17.3 in c:\\users\\aksha\\aiml\\supervised\\udemy\\ann classification\\venv\\lib\\site-packages (from scikit-learn==1.3.1) (1.26.4)\n",
      "Requirement already satisfied: scipy>=1.5.0 in c:\\users\\aksha\\aiml\\supervised\\udemy\\ann classification\\venv\\lib\\site-packages (from scikit-learn==1.3.1) (1.15.2)\n",
      "Requirement already satisfied: joblib>=1.1.1 in c:\\users\\aksha\\aiml\\supervised\\udemy\\ann classification\\venv\\lib\\site-packages (from scikit-learn==1.3.1) (1.4.2)\n",
      "Requirement already satisfied: threadpoolctl>=2.0.0 in c:\\users\\aksha\\aiml\\supervised\\udemy\\ann classification\\venv\\lib\\site-packages (from scikit-learn==1.3.1) (3.6.0)\n",
      "Downloading scikit_learn-1.3.1-cp311-cp311-win_amd64.whl (9.2 MB)\n",
      "   ---------------------------------------- 0.0/9.2 MB ? eta -:--:--\n",
      "   ------- -------------------------------- 1.8/9.2 MB 12.6 MB/s eta 0:00:01\n",
      "   --------------------- ------------------ 5.0/9.2 MB 13.7 MB/s eta 0:00:01\n",
      "   ---------------------------------------  9.2/9.2 MB 16.8 MB/s eta 0:00:01\n",
      "   ---------------------------------------- 9.2/9.2 MB 15.5 MB/s eta 0:00:00\n",
      "Installing collected packages: scikit-learn\n",
      "Successfully installed scikit-learn-1.3.1\n"
     ]
    },
    {
     "name": "stderr",
     "output_type": "stream",
     "text": [
      "ERROR: pip's dependency resolver does not currently take into account all the packages that are installed. This behaviour is the source of the following dependency conflicts.\n",
      "scikeras 0.13.0 requires keras>=3.2.0, but you have keras 2.15.0 which is incompatible.\n",
      "scikeras 0.13.0 requires scikit-learn>=1.4.2, but you have scikit-learn 1.3.1 which is incompatible.\n"
     ]
    }
   ],
   "source": [
    "!pip uninstall -y scikit-learn\n",
    "!pip install scikit-learn==1.3.1"
   ]
  },
  {
   "cell_type": "code",
   "execution_count": 3,
   "metadata": {},
   "outputs": [],
   "source": [
    "data=pd.read_csv('Churn_Modelling.csv')\n",
    "data = data.drop(['RowNumber', 'CustomerId', 'Surname'], axis=1)\n",
    "\n",
    "label_encoder_gender = LabelEncoder()\n",
    "data['Gender'] = label_encoder_gender.fit_transform(data['Gender'])\n",
    "\n",
    "onehot_encoder_geo = OneHotEncoder(handle_unknown='ignore')\n",
    "geo_encoded = onehot_encoder_geo.fit_transform(data[['Geography']]).toarray()\n",
    "geo_encoded_df = pd.DataFrame(geo_encoded, columns=onehot_encoder_geo.get_feature_names_out(['Geography']))\n",
    "\n",
    "data = pd.concat([data.drop('Geography', axis=1), geo_encoded_df], axis=1)\n",
    "\n",
    "X = data.drop('Exited', axis=1)\n",
    "y = data['Exited']\n",
    "\n",
    "X_train, X_test, y_train, y_test = train_test_split(X, y, test_size=0.2, random_state=42)\n",
    "\n",
    "scaler = StandardScaler()\n",
    "X_train = scaler.fit_transform(X_train)\n",
    "X_test = scaler.transform(X_test)\n",
    "\n",
    "# Save encoders and scaler for later use\n",
    "with open('label_encoder_gender.pkl', 'wb') as file:\n",
    "    pickle.dump(label_encoder_gender, file)\n",
    "\n",
    "with open('onehot_encoder_geo.pkl', 'wb') as file:\n",
    "    pickle.dump(onehot_encoder_geo, file)\n",
    "\n",
    "with open('scaler.pkl', 'wb') as file:\n",
    "    pickle.dump(scaler, file)"
   ]
  },
  {
   "cell_type": "code",
   "execution_count": 4,
   "metadata": {},
   "outputs": [],
   "source": [
    "## Define a function to create the model and try different parameters(KerasClassifier)\n",
    "\n",
    "def create_model(neurons=32,layers=1):\n",
    "    model=Sequential()\n",
    "    model.add(Dense(neurons,activation='relu',input_shape=(X_train.shape[1],)))\n",
    "\n",
    "    for _ in range(layers-1):\n",
    "        model.add(Dense(neurons,activation='relu'))\n",
    "\n",
    "    model.add(Dense(1,activation='sigmoid'))\n",
    "    model.compile(optimizer='adam',loss=\"binary_crossentropy\",metrics=['accuracy'])\n",
    "\n",
    "    return model"
   ]
  },
  {
   "cell_type": "code",
   "execution_count": 5,
   "id": "821e82bc",
   "metadata": {},
   "outputs": [],
   "source": [
    "## Create a Keras classifier\n",
    "model=KerasClassifier(neurons=32,layers=1,build_fn=create_model,verbose=1)"
   ]
  },
  {
   "cell_type": "code",
   "execution_count": 6,
   "id": "a0da52fe",
   "metadata": {},
   "outputs": [],
   "source": [
    "## define the grid search parameters\n",
    "param_grid = {\n",
    "    'neurons' : [16, 32, 64, 128],\n",
    "    'layers' : [1, 2, 3],\n",
    "    'epochs' : [50, 100]\n",
    "}"
   ]
  },
  {
   "cell_type": "code",
   "execution_count": 11,
   "metadata": {},
   "outputs": [
    {
     "ename": "TypeError",
     "evalue": "GridSearchCV.__init__() got an unexpected keyword argument 'metrics'",
     "output_type": "error",
     "traceback": [
      "\u001b[31m---------------------------------------------------------------------------\u001b[39m",
      "\u001b[31mTypeError\u001b[39m                                 Traceback (most recent call last)",
      "\u001b[36mCell\u001b[39m\u001b[36m \u001b[39m\u001b[32mIn[11]\u001b[39m\u001b[32m, line 4\u001b[39m\n\u001b[32m      1\u001b[39m \u001b[38;5;66;03m# Perform grid search\u001b[39;00m\n\u001b[32m      2\u001b[39m \u001b[38;5;28;01mfrom\u001b[39;00m\u001b[38;5;250m \u001b[39m\u001b[34;01msklearn\u001b[39;00m\u001b[34;01m.\u001b[39;00m\u001b[34;01mmodel_selection\u001b[39;00m\u001b[38;5;250m \u001b[39m\u001b[38;5;28;01mimport\u001b[39;00m GridSearchCV\n\u001b[32m----> \u001b[39m\u001b[32m4\u001b[39m grid = \u001b[43mGridSearchCV\u001b[49m\u001b[43m(\u001b[49m\u001b[43mestimator\u001b[49m\u001b[43m=\u001b[49m\u001b[43mmodel\u001b[49m\u001b[43m,\u001b[49m\u001b[43m \u001b[49m\u001b[43mparam_grid\u001b[49m\u001b[43m=\u001b[49m\u001b[43mparam_grid\u001b[49m\u001b[43m,\u001b[49m\u001b[43m \u001b[49m\u001b[43mn_jobs\u001b[49m\u001b[43m=\u001b[49m\u001b[43m-\u001b[49m\u001b[32;43m1\u001b[39;49m\u001b[43m,\u001b[49m\u001b[43m \u001b[49m\u001b[43mcv\u001b[49m\u001b[43m=\u001b[49m\u001b[32;43m3\u001b[39;49m\u001b[43m,\u001b[49m\u001b[43m \u001b[49m\u001b[43mverbose\u001b[49m\u001b[43m=\u001b[49m\u001b[32;43m1\u001b[39;49m\u001b[43m,\u001b[49m\u001b[43m \u001b[49m\u001b[43mmetrics\u001b[49m\u001b[43m \u001b[49m\u001b[43m=\u001b[49m\u001b[43m \u001b[49m\u001b[43m[\u001b[49m\u001b[33;43m'\u001b[39;49m\u001b[33;43maccuracy\u001b[39;49m\u001b[33;43m'\u001b[39;49m\u001b[43m]\u001b[49m\u001b[43m)\u001b[49m\n\u001b[32m      5\u001b[39m grid_result = grid.fit(X_train, y_train)\n\u001b[32m      7\u001b[39m \u001b[38;5;66;03m# Best result\u001b[39;00m\n",
      "\u001b[31mTypeError\u001b[39m: GridSearchCV.__init__() got an unexpected keyword argument 'metrics'"
     ]
    }
   ],
   "source": [
    "# Perform grid search\n",
    "from sklearn.model_selection import GridSearchCV\n",
    "\n",
    "grid = GridSearchCV(estimator=model, param_grid=param_grid, n_jobs=-1, cv=3, verbose=1, metrics = ['accuracy'])\n",
    "grid_result = grid.fit(X_train, y_train)\n",
    "\n",
    "# Best result\n",
    "print(\"Best: %f using %s\" % (grid_result.best_score_, grid_result.best_params_))"
   ]
  },
  {
   "cell_type": "code",
   "execution_count": 10,
   "id": "9a649df7",
   "metadata": {},
   "outputs": [
    {
     "data": {
      "text/plain": [
       "(8000, 12)"
      ]
     },
     "execution_count": 10,
     "metadata": {},
     "output_type": "execute_result"
    }
   ],
   "source": [
    "X_train.shape"
   ]
  },
  {
   "cell_type": "code",
   "execution_count": 25,
   "id": "0d1470f0",
   "metadata": {},
   "outputs": [
    {
     "name": "stdout",
     "output_type": "stream",
     "text": [
      "Package                      Version\n",
      "---------------------------- -----------\n",
      "absl-py                      2.2.2\n",
      "altair                       5.5.0\n",
      "asttokens                    3.0.0\n",
      "astunparse                   1.6.3\n",
      "attrs                        25.3.0\n",
      "blinker                      1.9.0\n",
      "cachetools                   5.5.2\n",
      "certifi                      2025.1.31\n",
      "charset-normalizer           3.4.1\n",
      "click                        8.1.8\n",
      "colorama                     0.4.6\n",
      "comm                         0.2.2\n",
      "contourpy                    1.3.1\n",
      "cycler                       0.12.1\n",
      "debugpy                      1.8.13\n",
      "decorator                    5.2.1\n",
      "executing                    2.2.0\n",
      "flatbuffers                  25.2.10\n",
      "fonttools                    4.57.0\n",
      "gast                         0.6.0\n",
      "gitdb                        4.0.12\n",
      "GitPython                    3.1.44\n",
      "google-auth                  2.38.0\n",
      "google-auth-oauthlib         1.2.1\n",
      "google-pasta                 0.2.0\n",
      "grpcio                       1.71.0\n",
      "h5py                         3.13.0\n",
      "idna                         3.10\n",
      "ipykernel                    6.29.5\n",
      "ipython                      9.0.2\n",
      "ipython_pygments_lexers      1.1.1\n",
      "jedi                         0.19.2\n",
      "Jinja2                       3.1.6\n",
      "joblib                       1.4.2\n",
      "jsonschema                   4.23.0\n",
      "jsonschema-specifications    2024.10.1\n",
      "jupyter_client               8.6.3\n",
      "jupyter_core                 5.7.2\n",
      "keras                        2.15.0\n",
      "kiwisolver                   1.4.8\n",
      "libclang                     18.1.1\n",
      "Markdown                     3.7\n",
      "markdown-it-py               3.0.0\n",
      "MarkupSafe                   3.0.2\n",
      "matplotlib                   3.10.1\n",
      "matplotlib-inline            0.1.7\n",
      "mdurl                        0.1.2\n",
      "ml-dtypes                    0.2.0\n",
      "namex                        0.0.8\n",
      "narwhals                     1.33.0\n",
      "nest-asyncio                 1.6.0\n",
      "numpy                        1.26.4\n",
      "oauthlib                     3.2.2\n",
      "opt_einsum                   3.4.0\n",
      "optree                       0.14.1\n",
      "packaging                    24.2\n",
      "pandas                       2.2.3\n",
      "parso                        0.8.4\n",
      "pillow                       11.1.0\n",
      "pip                          25.0\n",
      "platformdirs                 4.3.7\n",
      "prompt_toolkit               3.0.50\n",
      "protobuf                     4.25.6\n",
      "psutil                       7.0.0\n",
      "pure_eval                    0.2.3\n",
      "pyarrow                      19.0.1\n",
      "pyasn1                       0.6.1\n",
      "pyasn1_modules               0.4.2\n",
      "pydeck                       0.9.1\n",
      "Pygments                     2.19.1\n",
      "pyparsing                    3.2.3\n",
      "python-dateutil              2.9.0.post0\n",
      "pytz                         2025.2\n",
      "pywin32                      310\n",
      "pyzmq                        26.4.0\n",
      "referencing                  0.36.2\n",
      "requests                     2.32.3\n",
      "requests-oauthlib            2.0.0\n",
      "rich                         14.0.0\n",
      "rpds-py                      0.24.0\n",
      "rsa                          4.9\n",
      "scikeras                     0.13.0\n",
      "scikit-learn                 1.5.2\n",
      "scipy                        1.15.2\n",
      "setuptools                   75.8.0\n",
      "six                          1.17.0\n",
      "smmap                        5.0.2\n",
      "stack-data                   0.6.3\n",
      "streamlit                    1.44.1\n",
      "tenacity                     9.1.2\n",
      "tensorboard                  2.15.2\n",
      "tensorboard-data-server      0.7.2\n",
      "tensorflow                   2.15.0\n",
      "tensorflow-estimator         2.15.0\n",
      "tensorflow-intel             2.15.0\n",
      "tensorflow-io-gcs-filesystem 0.31.0\n",
      "termcolor                    3.0.1\n",
      "threadpoolctl                3.6.0\n",
      "toml                         0.10.2\n",
      "tornado                      6.4.2\n",
      "traitlets                    5.14.3\n",
      "typing_extensions            4.13.1\n",
      "tzdata                       2025.2\n",
      "urllib3                      2.3.0\n",
      "watchdog                     6.0.0\n",
      "wcwidth                      0.2.13\n",
      "Werkzeug                     3.1.3\n",
      "wheel                        0.45.1\n",
      "wrapt                        1.14.1\n"
     ]
    }
   ],
   "source": [
    "!pip list"
   ]
  },
  {
   "cell_type": "code",
   "execution_count": 24,
   "id": "90c3b971",
   "metadata": {},
   "outputs": [
    {
     "name": "stdout",
     "output_type": "stream",
     "text": [
      "Found existing installation: tensorflow 2.19.0\n",
      "Uninstalling tensorflow-2.19.0:\n",
      "  Successfully uninstalled tensorflow-2.19.0\n"
     ]
    },
    {
     "name": "stderr",
     "output_type": "stream",
     "text": [
      "WARNING: Failed to remove contents in a temporary directory 'C:\\Users\\aksha\\AppData\\Local\\Temp\\pip-uninstall-s13fq5i0'.\n",
      "You can safely remove it manually.\n",
      "WARNING: Failed to remove contents in a temporary directory 'C:\\Users\\aksha\\AIML\\supervised\\Udemy\\ANN Classification\\venv\\Lib\\site-packages\\tensorflow\\compiler\\~lir'.\n",
      "You can safely remove it manually.\n",
      "WARNING: Failed to remove contents in a temporary directory 'C:\\Users\\aksha\\AIML\\supervised\\Udemy\\ANN Classification\\venv\\Lib\\site-packages\\tensorflow\\~ite'.\n",
      "You can safely remove it manually.\n",
      "WARNING: Failed to remove contents in a temporary directory 'C:\\Users\\aksha\\AIML\\supervised\\Udemy\\ANN Classification\\venv\\Lib\\site-packages\\tensorflow\\python\\~pu'.\n",
      "You can safely remove it manually.\n"
     ]
    },
    {
     "name": "stdout",
     "output_type": "stream",
     "text": [
      "Collecting tensorflow==2.15.0\n",
      "  Using cached tensorflow-2.15.0-cp311-cp311-win_amd64.whl.metadata (3.6 kB)\n",
      "Collecting tensorflow-intel==2.15.0 (from tensorflow==2.15.0)\n",
      "  Using cached tensorflow_intel-2.15.0-cp311-cp311-win_amd64.whl.metadata (5.1 kB)\n",
      "Requirement already satisfied: absl-py>=1.0.0 in c:\\users\\aksha\\aiml\\supervised\\udemy\\ann classification\\venv\\lib\\site-packages (from tensorflow-intel==2.15.0->tensorflow==2.15.0) (2.2.2)\n",
      "Requirement already satisfied: astunparse>=1.6.0 in c:\\users\\aksha\\aiml\\supervised\\udemy\\ann classification\\venv\\lib\\site-packages (from tensorflow-intel==2.15.0->tensorflow==2.15.0) (1.6.3)\n",
      "Requirement already satisfied: flatbuffers>=23.5.26 in c:\\users\\aksha\\aiml\\supervised\\udemy\\ann classification\\venv\\lib\\site-packages (from tensorflow-intel==2.15.0->tensorflow==2.15.0) (25.2.10)\n",
      "Requirement already satisfied: gast!=0.5.0,!=0.5.1,!=0.5.2,>=0.2.1 in c:\\users\\aksha\\aiml\\supervised\\udemy\\ann classification\\venv\\lib\\site-packages (from tensorflow-intel==2.15.0->tensorflow==2.15.0) (0.6.0)\n",
      "Requirement already satisfied: google-pasta>=0.1.1 in c:\\users\\aksha\\aiml\\supervised\\udemy\\ann classification\\venv\\lib\\site-packages (from tensorflow-intel==2.15.0->tensorflow==2.15.0) (0.2.0)\n",
      "Requirement already satisfied: h5py>=2.9.0 in c:\\users\\aksha\\aiml\\supervised\\udemy\\ann classification\\venv\\lib\\site-packages (from tensorflow-intel==2.15.0->tensorflow==2.15.0) (3.13.0)\n",
      "Requirement already satisfied: libclang>=13.0.0 in c:\\users\\aksha\\aiml\\supervised\\udemy\\ann classification\\venv\\lib\\site-packages (from tensorflow-intel==2.15.0->tensorflow==2.15.0) (18.1.1)\n",
      "Requirement already satisfied: ml-dtypes~=0.2.0 in c:\\users\\aksha\\aiml\\supervised\\udemy\\ann classification\\venv\\lib\\site-packages (from tensorflow-intel==2.15.0->tensorflow==2.15.0) (0.2.0)\n",
      "Requirement already satisfied: numpy<2.0.0,>=1.23.5 in c:\\users\\aksha\\aiml\\supervised\\udemy\\ann classification\\venv\\lib\\site-packages (from tensorflow-intel==2.15.0->tensorflow==2.15.0) (1.26.4)\n",
      "Requirement already satisfied: opt-einsum>=2.3.2 in c:\\users\\aksha\\aiml\\supervised\\udemy\\ann classification\\venv\\lib\\site-packages (from tensorflow-intel==2.15.0->tensorflow==2.15.0) (3.4.0)\n",
      "Requirement already satisfied: packaging in c:\\users\\aksha\\aiml\\supervised\\udemy\\ann classification\\venv\\lib\\site-packages (from tensorflow-intel==2.15.0->tensorflow==2.15.0) (24.2)\n",
      "Requirement already satisfied: protobuf!=4.21.0,!=4.21.1,!=4.21.2,!=4.21.3,!=4.21.4,!=4.21.5,<5.0.0dev,>=3.20.3 in c:\\users\\aksha\\aiml\\supervised\\udemy\\ann classification\\venv\\lib\\site-packages (from tensorflow-intel==2.15.0->tensorflow==2.15.0) (4.25.6)\n",
      "Requirement already satisfied: setuptools in c:\\users\\aksha\\aiml\\supervised\\udemy\\ann classification\\venv\\lib\\site-packages (from tensorflow-intel==2.15.0->tensorflow==2.15.0) (75.8.0)\n",
      "Requirement already satisfied: six>=1.12.0 in c:\\users\\aksha\\aiml\\supervised\\udemy\\ann classification\\venv\\lib\\site-packages (from tensorflow-intel==2.15.0->tensorflow==2.15.0) (1.17.0)\n",
      "Requirement already satisfied: termcolor>=1.1.0 in c:\\users\\aksha\\aiml\\supervised\\udemy\\ann classification\\venv\\lib\\site-packages (from tensorflow-intel==2.15.0->tensorflow==2.15.0) (3.0.1)\n",
      "Requirement already satisfied: typing-extensions>=3.6.6 in c:\\users\\aksha\\aiml\\supervised\\udemy\\ann classification\\venv\\lib\\site-packages (from tensorflow-intel==2.15.0->tensorflow==2.15.0) (4.13.1)\n",
      "Requirement already satisfied: wrapt<1.15,>=1.11.0 in c:\\users\\aksha\\aiml\\supervised\\udemy\\ann classification\\venv\\lib\\site-packages (from tensorflow-intel==2.15.0->tensorflow==2.15.0) (1.14.1)\n",
      "Requirement already satisfied: tensorflow-io-gcs-filesystem>=0.23.1 in c:\\users\\aksha\\aiml\\supervised\\udemy\\ann classification\\venv\\lib\\site-packages (from tensorflow-intel==2.15.0->tensorflow==2.15.0) (0.31.0)\n",
      "Requirement already satisfied: grpcio<2.0,>=1.24.3 in c:\\users\\aksha\\aiml\\supervised\\udemy\\ann classification\\venv\\lib\\site-packages (from tensorflow-intel==2.15.0->tensorflow==2.15.0) (1.71.0)\n",
      "Requirement already satisfied: tensorboard<2.16,>=2.15 in c:\\users\\aksha\\aiml\\supervised\\udemy\\ann classification\\venv\\lib\\site-packages (from tensorflow-intel==2.15.0->tensorflow==2.15.0) (2.15.2)\n",
      "Requirement already satisfied: tensorflow-estimator<2.16,>=2.15.0 in c:\\users\\aksha\\aiml\\supervised\\udemy\\ann classification\\venv\\lib\\site-packages (from tensorflow-intel==2.15.0->tensorflow==2.15.0) (2.15.0)\n",
      "Requirement already satisfied: keras<2.16,>=2.15.0 in c:\\users\\aksha\\aiml\\supervised\\udemy\\ann classification\\venv\\lib\\site-packages (from tensorflow-intel==2.15.0->tensorflow==2.15.0) (2.15.0)\n",
      "Requirement already satisfied: wheel<1.0,>=0.23.0 in c:\\users\\aksha\\aiml\\supervised\\udemy\\ann classification\\venv\\lib\\site-packages (from astunparse>=1.6.0->tensorflow-intel==2.15.0->tensorflow==2.15.0) (0.45.1)\n",
      "Requirement already satisfied: google-auth<3,>=1.6.3 in c:\\users\\aksha\\aiml\\supervised\\udemy\\ann classification\\venv\\lib\\site-packages (from tensorboard<2.16,>=2.15->tensorflow-intel==2.15.0->tensorflow==2.15.0) (2.38.0)\n",
      "Requirement already satisfied: google-auth-oauthlib<2,>=0.5 in c:\\users\\aksha\\aiml\\supervised\\udemy\\ann classification\\venv\\lib\\site-packages (from tensorboard<2.16,>=2.15->tensorflow-intel==2.15.0->tensorflow==2.15.0) (1.2.1)\n",
      "Requirement already satisfied: markdown>=2.6.8 in c:\\users\\aksha\\aiml\\supervised\\udemy\\ann classification\\venv\\lib\\site-packages (from tensorboard<2.16,>=2.15->tensorflow-intel==2.15.0->tensorflow==2.15.0) (3.7)\n",
      "Requirement already satisfied: requests<3,>=2.21.0 in c:\\users\\aksha\\aiml\\supervised\\udemy\\ann classification\\venv\\lib\\site-packages (from tensorboard<2.16,>=2.15->tensorflow-intel==2.15.0->tensorflow==2.15.0) (2.32.3)\n",
      "Requirement already satisfied: tensorboard-data-server<0.8.0,>=0.7.0 in c:\\users\\aksha\\aiml\\supervised\\udemy\\ann classification\\venv\\lib\\site-packages (from tensorboard<2.16,>=2.15->tensorflow-intel==2.15.0->tensorflow==2.15.0) (0.7.2)\n",
      "Requirement already satisfied: werkzeug>=1.0.1 in c:\\users\\aksha\\aiml\\supervised\\udemy\\ann classification\\venv\\lib\\site-packages (from tensorboard<2.16,>=2.15->tensorflow-intel==2.15.0->tensorflow==2.15.0) (3.1.3)\n",
      "Requirement already satisfied: cachetools<6.0,>=2.0.0 in c:\\users\\aksha\\aiml\\supervised\\udemy\\ann classification\\venv\\lib\\site-packages (from google-auth<3,>=1.6.3->tensorboard<2.16,>=2.15->tensorflow-intel==2.15.0->tensorflow==2.15.0) (5.5.2)\n",
      "Requirement already satisfied: pyasn1-modules>=0.2.1 in c:\\users\\aksha\\aiml\\supervised\\udemy\\ann classification\\venv\\lib\\site-packages (from google-auth<3,>=1.6.3->tensorboard<2.16,>=2.15->tensorflow-intel==2.15.0->tensorflow==2.15.0) (0.4.2)\n",
      "Requirement already satisfied: rsa<5,>=3.1.4 in c:\\users\\aksha\\aiml\\supervised\\udemy\\ann classification\\venv\\lib\\site-packages (from google-auth<3,>=1.6.3->tensorboard<2.16,>=2.15->tensorflow-intel==2.15.0->tensorflow==2.15.0) (4.9)\n",
      "Requirement already satisfied: requests-oauthlib>=0.7.0 in c:\\users\\aksha\\aiml\\supervised\\udemy\\ann classification\\venv\\lib\\site-packages (from google-auth-oauthlib<2,>=0.5->tensorboard<2.16,>=2.15->tensorflow-intel==2.15.0->tensorflow==2.15.0) (2.0.0)\n",
      "Requirement already satisfied: charset-normalizer<4,>=2 in c:\\users\\aksha\\aiml\\supervised\\udemy\\ann classification\\venv\\lib\\site-packages (from requests<3,>=2.21.0->tensorboard<2.16,>=2.15->tensorflow-intel==2.15.0->tensorflow==2.15.0) (3.4.1)\n",
      "Requirement already satisfied: idna<4,>=2.5 in c:\\users\\aksha\\aiml\\supervised\\udemy\\ann classification\\venv\\lib\\site-packages (from requests<3,>=2.21.0->tensorboard<2.16,>=2.15->tensorflow-intel==2.15.0->tensorflow==2.15.0) (3.10)\n",
      "Requirement already satisfied: urllib3<3,>=1.21.1 in c:\\users\\aksha\\aiml\\supervised\\udemy\\ann classification\\venv\\lib\\site-packages (from requests<3,>=2.21.0->tensorboard<2.16,>=2.15->tensorflow-intel==2.15.0->tensorflow==2.15.0) (2.3.0)\n",
      "Requirement already satisfied: certifi>=2017.4.17 in c:\\users\\aksha\\aiml\\supervised\\udemy\\ann classification\\venv\\lib\\site-packages (from requests<3,>=2.21.0->tensorboard<2.16,>=2.15->tensorflow-intel==2.15.0->tensorflow==2.15.0) (2025.1.31)\n",
      "Requirement already satisfied: MarkupSafe>=2.1.1 in c:\\users\\aksha\\aiml\\supervised\\udemy\\ann classification\\venv\\lib\\site-packages (from werkzeug>=1.0.1->tensorboard<2.16,>=2.15->tensorflow-intel==2.15.0->tensorflow==2.15.0) (3.0.2)\n",
      "Requirement already satisfied: pyasn1<0.7.0,>=0.6.1 in c:\\users\\aksha\\aiml\\supervised\\udemy\\ann classification\\venv\\lib\\site-packages (from pyasn1-modules>=0.2.1->google-auth<3,>=1.6.3->tensorboard<2.16,>=2.15->tensorflow-intel==2.15.0->tensorflow==2.15.0) (0.6.1)\n",
      "Requirement already satisfied: oauthlib>=3.0.0 in c:\\users\\aksha\\aiml\\supervised\\udemy\\ann classification\\venv\\lib\\site-packages (from requests-oauthlib>=0.7.0->google-auth-oauthlib<2,>=0.5->tensorboard<2.16,>=2.15->tensorflow-intel==2.15.0->tensorflow==2.15.0) (3.2.2)\n",
      "Using cached tensorflow-2.15.0-cp311-cp311-win_amd64.whl (2.1 kB)\n",
      "Using cached tensorflow_intel-2.15.0-cp311-cp311-win_amd64.whl (300.9 MB)\n",
      "Installing collected packages: tensorflow-intel, tensorflow\n",
      "Successfully installed tensorflow-2.15.0 tensorflow-intel-2.15.0\n"
     ]
    }
   ],
   "source": [
    "!pip uninstall -y tensorflow\n",
    "!pip install tensorflow==2.15.0"
   ]
  },
  {
   "cell_type": "code",
   "execution_count": null,
   "id": "2b6d4a2d",
   "metadata": {},
   "outputs": [],
   "source": []
  },
  {
   "cell_type": "code",
   "execution_count": null,
   "id": "812fa1e2",
   "metadata": {},
   "outputs": [],
   "source": []
  },
  {
   "cell_type": "code",
   "execution_count": null,
   "id": "673f369a",
   "metadata": {},
   "outputs": [],
   "source": []
  },
  {
   "cell_type": "code",
   "execution_count": null,
   "id": "1c437af4",
   "metadata": {},
   "outputs": [],
   "source": []
  }
 ],
 "metadata": {
  "kernelspec": {
   "display_name": "Python 3",
   "language": "python",
   "name": "python3"
  },
  "language_info": {
   "codemirror_mode": {
    "name": "ipython",
    "version": 3
   },
   "file_extension": ".py",
   "mimetype": "text/x-python",
   "name": "python",
   "nbconvert_exporter": "python",
   "pygments_lexer": "ipython3",
   "version": "3.11.11"
  }
 },
 "nbformat": 4,
 "nbformat_minor": 5
}
